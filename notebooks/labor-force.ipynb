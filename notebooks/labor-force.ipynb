{
 "cells": [
  {
   "cell_type": "markdown",
   "metadata": {},
   "source": [
    "### Labour Force"
   ]
  },
  {
   "cell_type": "code",
   "execution_count": 1,
   "metadata": {},
   "outputs": [
    {
     "name": "stderr",
     "output_type": "stream",
     "text": [
      "/var/folders/m6/39z99jrd3rq2vk51v5xvjkv80000gn/T/ipykernel_42578/2086485314.py:20: UserWarning: \n",
      "The dash_core_components package is deprecated. Please replace\n",
      "`import dash_core_components as dcc` with `from dash import dcc`\n",
      "  import dash_core_components as dcc\n",
      "/var/folders/m6/39z99jrd3rq2vk51v5xvjkv80000gn/T/ipykernel_42578/2086485314.py:21: UserWarning: \n",
      "The dash_html_components package is deprecated. Please replace\n",
      "`import dash_html_components as html` with `from dash import html`\n",
      "  import dash_html_components as html\n"
     ]
    }
   ],
   "source": [
    "import pandas as pd\n",
    "from sklearn.ensemble import RandomForestClassifier\n",
    "from sklearn.preprocessing import LabelEncoder\n",
    "from sklearn.metrics import accuracy_score\n",
    "from sklearn.model_selection import train_test_split\n",
    "import panel as pn\n",
    "\n",
    "from pathlib import Path\n",
    "import plotly.express as px\n",
    "import numpy as np\n",
    "\n",
    "import seaborn as sns\n",
    "import matplotlib.pyplot as plt\n",
    "import ipywidgets as widgets\n",
    "from ipywidgets import HBox, VBox\n",
    "\n",
    "import geopandas as gpd\n",
    "import dash\n",
    "from dash.dependencies import Input, Output\n",
    "import dash_core_components as dcc\n",
    "import dash_html_components as html\n",
    "\n",
    "import re"
   ]
  },
  {
   "cell_type": "code",
   "execution_count": 2,
   "metadata": {},
   "outputs": [],
   "source": [
    "cwd = Path.cwd()\n",
    "labor_data_2019_path = (cwd/\"project_data/2019-29\"/\"labor-force.xlsx\").resolve()\n",
    "labor_data_2023_path = (cwd/\"project_data/2023-33\"/\"labor-force.xlsx\").resolve()"
   ]
  },
  {
   "cell_type": "code",
   "execution_count": 3,
   "metadata": {},
   "outputs": [
    {
     "data": {
      "text/html": [
       "<div>\n",
       "<style scoped>\n",
       "    .dataframe tbody tr th:only-of-type {\n",
       "        vertical-align: middle;\n",
       "    }\n",
       "\n",
       "    .dataframe tbody tr th {\n",
       "        vertical-align: top;\n",
       "    }\n",
       "\n",
       "    .dataframe thead th {\n",
       "        text-align: right;\n",
       "    }\n",
       "</style>\n",
       "<table border=\"1\" class=\"dataframe\">\n",
       "  <thead>\n",
       "    <tr style=\"text-align: right;\">\n",
       "      <th></th>\n",
       "      <th>Labour_Participation_age</th>\n",
       "      <th>Participation rate, 1999</th>\n",
       "      <th>Participation rate, 2009</th>\n",
       "      <th>Participation rate, 2019</th>\n",
       "      <th>Participation rate, 2029</th>\n",
       "      <th>Participation rate change, 1999-09</th>\n",
       "      <th>Participation rate change, 2009-19</th>\n",
       "      <th>Participation rate change, 2019-29</th>\n",
       "      <th>Annual growth rate, 1999-09</th>\n",
       "      <th>Annual growth rate, 2009-19</th>\n",
       "      <th>Annual growth rate, 2019-29</th>\n",
       "    </tr>\n",
       "  </thead>\n",
       "  <tbody>\n",
       "    <tr>\n",
       "      <th>1</th>\n",
       "      <td>Total, 16 years and older</td>\n",
       "      <td>67.1</td>\n",
       "      <td>65.4</td>\n",
       "      <td>63.1</td>\n",
       "      <td>61.2</td>\n",
       "      <td>-1.7</td>\n",
       "      <td>-2.3</td>\n",
       "      <td>-1.9</td>\n",
       "      <td>-0.3</td>\n",
       "      <td>-0.4</td>\n",
       "      <td>-0.3</td>\n",
       "    </tr>\n",
       "    <tr>\n",
       "      <th>2</th>\n",
       "      <td>16 to 24</td>\n",
       "      <td>65.5</td>\n",
       "      <td>56.9</td>\n",
       "      <td>55.9</td>\n",
       "      <td>51.3</td>\n",
       "      <td>-8.6</td>\n",
       "      <td>-1</td>\n",
       "      <td>-4.6</td>\n",
       "      <td>-1.4</td>\n",
       "      <td>-0.2</td>\n",
       "      <td>-0.8</td>\n",
       "    </tr>\n",
       "    <tr>\n",
       "      <th>3</th>\n",
       "      <td>16 to 19</td>\n",
       "      <td>52</td>\n",
       "      <td>37.5</td>\n",
       "      <td>35.3</td>\n",
       "      <td>28.5</td>\n",
       "      <td>-14.5</td>\n",
       "      <td>-2.2</td>\n",
       "      <td>-6.9</td>\n",
       "      <td>-3.2</td>\n",
       "      <td>-0.6</td>\n",
       "      <td>-2.1</td>\n",
       "    </tr>\n",
       "    <tr>\n",
       "      <th>4</th>\n",
       "      <td>20 to 24</td>\n",
       "      <td>77.5</td>\n",
       "      <td>72.9</td>\n",
       "      <td>72.2</td>\n",
       "      <td>69</td>\n",
       "      <td>-4.6</td>\n",
       "      <td>-0.8</td>\n",
       "      <td>-3.1</td>\n",
       "      <td>-0.6</td>\n",
       "      <td>-0.1</td>\n",
       "      <td>-0.4</td>\n",
       "    </tr>\n",
       "    <tr>\n",
       "      <th>5</th>\n",
       "      <td>25 to 54</td>\n",
       "      <td>84.1</td>\n",
       "      <td>82.6</td>\n",
       "      <td>82.5</td>\n",
       "      <td>81.8</td>\n",
       "      <td>-1.5</td>\n",
       "      <td>-0.1</td>\n",
       "      <td>-0.7</td>\n",
       "      <td>-0.2</td>\n",
       "      <td>0</td>\n",
       "      <td>-0.1</td>\n",
       "    </tr>\n",
       "  </tbody>\n",
       "</table>\n",
       "</div>"
      ],
      "text/plain": [
       "    Labour_Participation_age Participation rate, 1999  \\\n",
       "1  Total, 16 years and older                     67.1   \n",
       "2                   16 to 24                     65.5   \n",
       "3                   16 to 19                       52   \n",
       "4                   20 to 24                     77.5   \n",
       "5                   25 to 54                     84.1   \n",
       "\n",
       "  Participation rate, 2009 Participation rate, 2019 Participation rate, 2029  \\\n",
       "1                     65.4                     63.1                     61.2   \n",
       "2                     56.9                     55.9                     51.3   \n",
       "3                     37.5                     35.3                     28.5   \n",
       "4                     72.9                     72.2                       69   \n",
       "5                     82.6                     82.5                     81.8   \n",
       "\n",
       "  Participation rate change, 1999-09 Participation rate change, 2009-19  \\\n",
       "1                               -1.7                               -2.3   \n",
       "2                               -8.6                                 -1   \n",
       "3                              -14.5                               -2.2   \n",
       "4                               -4.6                               -0.8   \n",
       "5                               -1.5                               -0.1   \n",
       "\n",
       "  Participation rate change, 2019-29 Annual growth rate, 1999-09  \\\n",
       "1                               -1.9                        -0.3   \n",
       "2                               -4.6                        -1.4   \n",
       "3                               -6.9                        -3.2   \n",
       "4                               -3.1                        -0.6   \n",
       "5                               -0.7                        -0.2   \n",
       "\n",
       "  Annual growth rate, 2009-19 Annual growth rate, 2019-29  \n",
       "1                        -0.4                        -0.3  \n",
       "2                        -0.2                        -0.8  \n",
       "3                        -0.6                        -2.1  \n",
       "4                        -0.1                        -0.4  \n",
       "5                           0                        -0.1  "
      ]
     },
     "execution_count": 3,
     "metadata": {},
     "output_type": "execute_result"
    }
   ],
   "source": [
    "labour_data_2019 = pd.read_excel(labor_data_2019_path, sheet_name=3,skiprows=1,header=0)\n",
    "labour_data_2019 = labour_data_2019.drop(labour_data_2019.tail(6).index)\n",
    "labour_data_2019.columns = [\"Labour_Participation_age\", \"Participation rate, 1999\", \"Participation rate, 2009\", \"Participation rate, 2019\",\\\n",
    "    \"Participation rate, 2029\",\"Participation rate change, 1999-09\",\"Participation rate change, 2009-19\",\"Participation rate change, 2019-29\",\\\n",
    "        \"Annual growth rate, 1999-09\",\"Annual growth rate, 2009-19\",\"Annual growth rate, 2019-29\" ]\n",
    "labour_data_2019= labour_data_2019.iloc[1:,:]\n",
    "labour_data_2019.head()"
   ]
  },
  {
   "cell_type": "code",
   "execution_count": 4,
   "metadata": {},
   "outputs": [
    {
     "data": {
      "text/html": [
       "<div>\n",
       "<style scoped>\n",
       "    .dataframe tbody tr th:only-of-type {\n",
       "        vertical-align: middle;\n",
       "    }\n",
       "\n",
       "    .dataframe tbody tr th {\n",
       "        vertical-align: top;\n",
       "    }\n",
       "\n",
       "    .dataframe thead th {\n",
       "        text-align: right;\n",
       "    }\n",
       "</style>\n",
       "<table border=\"1\" class=\"dataframe\">\n",
       "  <thead>\n",
       "    <tr style=\"text-align: right;\">\n",
       "      <th></th>\n",
       "      <th>Group</th>\n",
       "      <th>Participation rate, 2003</th>\n",
       "      <th>Participation rate, 2013</th>\n",
       "      <th>Participation rate, 2023</th>\n",
       "      <th>Participation rate, 2033</th>\n",
       "      <th>Participation rate change, 2003-13</th>\n",
       "      <th>Participation rate change, 2013-23</th>\n",
       "      <th>Participation rate change, 2023-33</th>\n",
       "      <th>Compound annual rate of change, 2003-13</th>\n",
       "      <th>Compound annual rate of change, 2013-23</th>\n",
       "      <th>Compound annual rate of change, 2023-33</th>\n",
       "    </tr>\n",
       "  </thead>\n",
       "  <tbody>\n",
       "    <tr>\n",
       "      <th>0</th>\n",
       "      <td>Total, 16 years and older</td>\n",
       "      <td>66.2</td>\n",
       "      <td>63.2</td>\n",
       "      <td>62.6</td>\n",
       "      <td>61.2</td>\n",
       "      <td>-3.0</td>\n",
       "      <td>-0.6</td>\n",
       "      <td>-1.4</td>\n",
       "      <td>-0.5</td>\n",
       "      <td>-0.1</td>\n",
       "      <td>-0.2</td>\n",
       "    </tr>\n",
       "    <tr>\n",
       "      <th>1</th>\n",
       "      <td>16 to 24</td>\n",
       "      <td>61.6</td>\n",
       "      <td>55.1</td>\n",
       "      <td>56.2</td>\n",
       "      <td>53.9</td>\n",
       "      <td>-6.5</td>\n",
       "      <td>1.2</td>\n",
       "      <td>-2.4</td>\n",
       "      <td>-1.1</td>\n",
       "      <td>0.2</td>\n",
       "      <td>-0.4</td>\n",
       "    </tr>\n",
       "    <tr>\n",
       "      <th>2</th>\n",
       "      <td>16 to 19</td>\n",
       "      <td>44.5</td>\n",
       "      <td>34.5</td>\n",
       "      <td>36.9</td>\n",
       "      <td>34.3</td>\n",
       "      <td>-10.1</td>\n",
       "      <td>2.5</td>\n",
       "      <td>-2.6</td>\n",
       "      <td>-2.5</td>\n",
       "      <td>0.7</td>\n",
       "      <td>-0.7</td>\n",
       "    </tr>\n",
       "    <tr>\n",
       "      <th>3</th>\n",
       "      <td>20 to 24</td>\n",
       "      <td>75.4</td>\n",
       "      <td>70.7</td>\n",
       "      <td>71.3</td>\n",
       "      <td>69.1</td>\n",
       "      <td>-4.7</td>\n",
       "      <td>0.6</td>\n",
       "      <td>-2.2</td>\n",
       "      <td>-0.6</td>\n",
       "      <td>0.1</td>\n",
       "      <td>-0.3</td>\n",
       "    </tr>\n",
       "    <tr>\n",
       "      <th>4</th>\n",
       "      <td>25 to 54</td>\n",
       "      <td>83</td>\n",
       "      <td>81</td>\n",
       "      <td>83.3</td>\n",
       "      <td>82.6</td>\n",
       "      <td>-2.0</td>\n",
       "      <td>2.3</td>\n",
       "      <td>-0.7</td>\n",
       "      <td>-0.2</td>\n",
       "      <td>0.3</td>\n",
       "      <td>-0.1</td>\n",
       "    </tr>\n",
       "  </tbody>\n",
       "</table>\n",
       "</div>"
      ],
      "text/plain": [
       "                       Group Participation rate, 2003  \\\n",
       "0  Total, 16 years and older                     66.2   \n",
       "1                   16 to 24                     61.6   \n",
       "2                   16 to 19                     44.5   \n",
       "3                   20 to 24                     75.4   \n",
       "4                   25 to 54                       83   \n",
       "\n",
       "  Participation rate, 2013 Participation rate, 2023 Participation rate, 2033  \\\n",
       "0                     63.2                     62.6                     61.2   \n",
       "1                     55.1                     56.2                     53.9   \n",
       "2                     34.5                     36.9                     34.3   \n",
       "3                     70.7                     71.3                     69.1   \n",
       "4                       81                     83.3                     82.6   \n",
       "\n",
       "   Participation rate change, 2003-13  Participation rate change, 2013-23  \\\n",
       "0                                -3.0                                -0.6   \n",
       "1                                -6.5                                 1.2   \n",
       "2                               -10.1                                 2.5   \n",
       "3                                -4.7                                 0.6   \n",
       "4                                -2.0                                 2.3   \n",
       "\n",
       "   Participation rate change, 2023-33  \\\n",
       "0                                -1.4   \n",
       "1                                -2.4   \n",
       "2                                -2.6   \n",
       "3                                -2.2   \n",
       "4                                -0.7   \n",
       "\n",
       "   Compound annual rate of change, 2003-13  \\\n",
       "0                                     -0.5   \n",
       "1                                     -1.1   \n",
       "2                                     -2.5   \n",
       "3                                     -0.6   \n",
       "4                                     -0.2   \n",
       "\n",
       "   Compound annual rate of change, 2013-23  \\\n",
       "0                                     -0.1   \n",
       "1                                      0.2   \n",
       "2                                      0.7   \n",
       "3                                      0.1   \n",
       "4                                      0.3   \n",
       "\n",
       "   Compound annual rate of change, 2023-33  \n",
       "0                                     -0.2  \n",
       "1                                     -0.4  \n",
       "2                                     -0.7  \n",
       "3                                     -0.3  \n",
       "4                                     -0.1  "
      ]
     },
     "execution_count": 4,
     "metadata": {},
     "output_type": "execute_result"
    }
   ],
   "source": [
    "labour_data_2023 = pd.read_excel(labor_data_2023_path, sheet_name=3,skiprows=1,header=0)\n",
    "labour_data_2023 = labour_data_2023.drop(labour_data_2023.tail(6).index)\n",
    "labour_data_2023.head()"
   ]
  },
  {
   "cell_type": "code",
   "execution_count": 5,
   "metadata": {},
   "outputs": [
    {
     "data": {
      "text/html": [
       "<div>\n",
       "<style scoped>\n",
       "    .dataframe tbody tr th:only-of-type {\n",
       "        vertical-align: middle;\n",
       "    }\n",
       "\n",
       "    .dataframe tbody tr th {\n",
       "        vertical-align: top;\n",
       "    }\n",
       "\n",
       "    .dataframe thead th {\n",
       "        text-align: right;\n",
       "    }\n",
       "</style>\n",
       "<table border=\"1\" class=\"dataframe\">\n",
       "  <thead>\n",
       "    <tr style=\"text-align: right;\">\n",
       "      <th></th>\n",
       "      <th>Participation rate, 1999</th>\n",
       "      <th>Participation rate, 2009</th>\n",
       "      <th>Participation rate, 2019</th>\n",
       "      <th>Participation rate, 2029</th>\n",
       "      <th>Participation rate, 2003</th>\n",
       "      <th>Participation rate, 2013</th>\n",
       "      <th>Participation rate, 2023</th>\n",
       "      <th>Participation rate, 2033</th>\n",
       "    </tr>\n",
       "    <tr>\n",
       "      <th>Labour_Participation_age</th>\n",
       "      <th></th>\n",
       "      <th></th>\n",
       "      <th></th>\n",
       "      <th></th>\n",
       "      <th></th>\n",
       "      <th></th>\n",
       "      <th></th>\n",
       "      <th></th>\n",
       "    </tr>\n",
       "  </thead>\n",
       "  <tbody>\n",
       "    <tr>\n",
       "      <th>16 to 19</th>\n",
       "      <td>52</td>\n",
       "      <td>37.5</td>\n",
       "      <td>35.3</td>\n",
       "      <td>28.5</td>\n",
       "      <td>44.5</td>\n",
       "      <td>34.5</td>\n",
       "      <td>36.9</td>\n",
       "      <td>34.3</td>\n",
       "    </tr>\n",
       "    <tr>\n",
       "      <th>20 to 24</th>\n",
       "      <td>77.5</td>\n",
       "      <td>72.9</td>\n",
       "      <td>72.2</td>\n",
       "      <td>69</td>\n",
       "      <td>75.4</td>\n",
       "      <td>70.7</td>\n",
       "      <td>71.3</td>\n",
       "      <td>69.1</td>\n",
       "    </tr>\n",
       "    <tr>\n",
       "      <th>25 to 34</th>\n",
       "      <td>84.6</td>\n",
       "      <td>82.7</td>\n",
       "      <td>82.9</td>\n",
       "      <td>81.9</td>\n",
       "      <td>82.9</td>\n",
       "      <td>81.2</td>\n",
       "      <td>83.8</td>\n",
       "      <td>82.9</td>\n",
       "    </tr>\n",
       "    <tr>\n",
       "      <th>35 to 44</th>\n",
       "      <td>84.9</td>\n",
       "      <td>83.7</td>\n",
       "      <td>83.1</td>\n",
       "      <td>82.2</td>\n",
       "      <td>83.9</td>\n",
       "      <td>82.2</td>\n",
       "      <td>83.8</td>\n",
       "      <td>82.8</td>\n",
       "    </tr>\n",
       "    <tr>\n",
       "      <th>45 to 54</th>\n",
       "      <td>82.6</td>\n",
       "      <td>81.6</td>\n",
       "      <td>81.4</td>\n",
       "      <td>81.3</td>\n",
       "      <td>82.1</td>\n",
       "      <td>79.7</td>\n",
       "      <td>82.1</td>\n",
       "      <td>82</td>\n",
       "    </tr>\n",
       "    <tr>\n",
       "      <th>55 to 64</th>\n",
       "      <td>59.3</td>\n",
       "      <td>64.9</td>\n",
       "      <td>65.3</td>\n",
       "      <td>68.7</td>\n",
       "      <td>62.4</td>\n",
       "      <td>64.4</td>\n",
       "      <td>65.8</td>\n",
       "      <td>69.1</td>\n",
       "    </tr>\n",
       "    <tr>\n",
       "      <th>65 to 74</th>\n",
       "      <td>18.3</td>\n",
       "      <td>25.6</td>\n",
       "      <td>27.8</td>\n",
       "      <td>33.2</td>\n",
       "      <td>21.4</td>\n",
       "      <td>26.7</td>\n",
       "      <td>26.9</td>\n",
       "      <td>30.4</td>\n",
       "    </tr>\n",
       "    <tr>\n",
       "      <th>75 and older</th>\n",
       "      <td>5.1</td>\n",
       "      <td>7.3</td>\n",
       "      <td>9.1</td>\n",
       "      <td>11.8</td>\n",
       "      <td>5.8</td>\n",
       "      <td>7.9</td>\n",
       "      <td>8.3</td>\n",
       "      <td>10.1</td>\n",
       "    </tr>\n",
       "  </tbody>\n",
       "</table>\n",
       "</div>"
      ],
      "text/plain": [
       "                         Participation rate, 1999 Participation rate, 2009  \\\n",
       "Labour_Participation_age                                                     \n",
       "16 to 19                                       52                     37.5   \n",
       "20 to 24                                     77.5                     72.9   \n",
       "25 to 34                                     84.6                     82.7   \n",
       "35 to 44                                     84.9                     83.7   \n",
       "45 to 54                                     82.6                     81.6   \n",
       "55 to 64                                     59.3                     64.9   \n",
       "65 to 74                                     18.3                     25.6   \n",
       "75 and older                                  5.1                      7.3   \n",
       "\n",
       "                         Participation rate, 2019 Participation rate, 2029  \\\n",
       "Labour_Participation_age                                                     \n",
       "16 to 19                                     35.3                     28.5   \n",
       "20 to 24                                     72.2                       69   \n",
       "25 to 34                                     82.9                     81.9   \n",
       "35 to 44                                     83.1                     82.2   \n",
       "45 to 54                                     81.4                     81.3   \n",
       "55 to 64                                     65.3                     68.7   \n",
       "65 to 74                                     27.8                     33.2   \n",
       "75 and older                                  9.1                     11.8   \n",
       "\n",
       "                         Participation rate, 2003 Participation rate, 2013  \\\n",
       "Labour_Participation_age                                                     \n",
       "16 to 19                                     44.5                     34.5   \n",
       "20 to 24                                     75.4                     70.7   \n",
       "25 to 34                                     82.9                     81.2   \n",
       "35 to 44                                     83.9                     82.2   \n",
       "45 to 54                                     82.1                     79.7   \n",
       "55 to 64                                     62.4                     64.4   \n",
       "65 to 74                                     21.4                     26.7   \n",
       "75 and older                                  5.8                      7.9   \n",
       "\n",
       "                         Participation rate, 2023 Participation rate, 2033  \n",
       "Labour_Participation_age                                                    \n",
       "16 to 19                                     36.9                     34.3  \n",
       "20 to 24                                     71.3                     69.1  \n",
       "25 to 34                                     83.8                     82.9  \n",
       "35 to 44                                     83.8                     82.8  \n",
       "45 to 54                                     82.1                       82  \n",
       "55 to 64                                     65.8                     69.1  \n",
       "65 to 74                                     26.9                     30.4  \n",
       "75 and older                                  8.3                     10.1  "
      ]
     },
     "execution_count": 5,
     "metadata": {},
     "output_type": "execute_result"
    }
   ],
   "source": [
    "barplot_2019 = labour_data_2019.iloc[:12,:5]\n",
    "barplot_2019.set_index('Labour_Participation_age', inplace=True)\n",
    "barplot_2019 = barplot_2019.iloc[[2,3,5,6,7,9,10,11],:]\n",
    "\n",
    "barplot_2023 = labour_data_2023.iloc[:12,:5]\n",
    "barplot_2023.columns =['Labour_Participation_age', 'Participation rate, 2003', 'Participation rate, 2013',\n",
    "       'Participation rate, 2023', 'Participation rate, 2033']\n",
    "barplot_2023['Labour_Participation_age'] = barplot_2023['Labour_Participation_age'].str.strip()\n",
    "barplot_2023.set_index('Labour_Participation_age', inplace=True)\n",
    "barplot_2023 = barplot_2023.iloc[[2,3,5,6,7,9,10,11],:]\n",
    "\n",
    "merged_labor_data = pd.concat([barplot_2019, barplot_2023], axis=1)\n",
    "merged_labor_data"
   ]
  },
  {
   "cell_type": "code",
   "execution_count": 6,
   "metadata": {},
   "outputs": [
    {
     "data": {
      "text/html": [
       "<div>\n",
       "<style scoped>\n",
       "    .dataframe tbody tr th:only-of-type {\n",
       "        vertical-align: middle;\n",
       "    }\n",
       "\n",
       "    .dataframe tbody tr th {\n",
       "        vertical-align: top;\n",
       "    }\n",
       "\n",
       "    .dataframe thead th {\n",
       "        text-align: right;\n",
       "    }\n",
       "</style>\n",
       "<table border=\"1\" class=\"dataframe\">\n",
       "  <thead>\n",
       "    <tr style=\"text-align: right;\">\n",
       "      <th></th>\n",
       "      <th>Participation rate, 1999</th>\n",
       "      <th>Participation rate, 2003</th>\n",
       "      <th>Participation rate, 2009</th>\n",
       "      <th>Participation rate, 2013</th>\n",
       "      <th>Participation rate, 2019</th>\n",
       "      <th>Participation rate, 2023</th>\n",
       "      <th>Participation rate, 2029</th>\n",
       "      <th>Participation rate, 2033</th>\n",
       "    </tr>\n",
       "    <tr>\n",
       "      <th>Labour_Participation_age</th>\n",
       "      <th></th>\n",
       "      <th></th>\n",
       "      <th></th>\n",
       "      <th></th>\n",
       "      <th></th>\n",
       "      <th></th>\n",
       "      <th></th>\n",
       "      <th></th>\n",
       "    </tr>\n",
       "  </thead>\n",
       "  <tbody>\n",
       "    <tr>\n",
       "      <th>16 to 19</th>\n",
       "      <td>52</td>\n",
       "      <td>44.5</td>\n",
       "      <td>37.5</td>\n",
       "      <td>34.5</td>\n",
       "      <td>35.3</td>\n",
       "      <td>36.9</td>\n",
       "      <td>28.5</td>\n",
       "      <td>34.3</td>\n",
       "    </tr>\n",
       "    <tr>\n",
       "      <th>20 to 24</th>\n",
       "      <td>77.5</td>\n",
       "      <td>75.4</td>\n",
       "      <td>72.9</td>\n",
       "      <td>70.7</td>\n",
       "      <td>72.2</td>\n",
       "      <td>71.3</td>\n",
       "      <td>69</td>\n",
       "      <td>69.1</td>\n",
       "    </tr>\n",
       "    <tr>\n",
       "      <th>25 to 34</th>\n",
       "      <td>84.6</td>\n",
       "      <td>82.9</td>\n",
       "      <td>82.7</td>\n",
       "      <td>81.2</td>\n",
       "      <td>82.9</td>\n",
       "      <td>83.8</td>\n",
       "      <td>81.9</td>\n",
       "      <td>82.9</td>\n",
       "    </tr>\n",
       "    <tr>\n",
       "      <th>35 to 44</th>\n",
       "      <td>84.9</td>\n",
       "      <td>83.9</td>\n",
       "      <td>83.7</td>\n",
       "      <td>82.2</td>\n",
       "      <td>83.1</td>\n",
       "      <td>83.8</td>\n",
       "      <td>82.2</td>\n",
       "      <td>82.8</td>\n",
       "    </tr>\n",
       "    <tr>\n",
       "      <th>45 to 54</th>\n",
       "      <td>82.6</td>\n",
       "      <td>82.1</td>\n",
       "      <td>81.6</td>\n",
       "      <td>79.7</td>\n",
       "      <td>81.4</td>\n",
       "      <td>82.1</td>\n",
       "      <td>81.3</td>\n",
       "      <td>82</td>\n",
       "    </tr>\n",
       "  </tbody>\n",
       "</table>\n",
       "</div>"
      ],
      "text/plain": [
       "                         Participation rate, 1999 Participation rate, 2003  \\\n",
       "Labour_Participation_age                                                     \n",
       "16 to 19                                       52                     44.5   \n",
       "20 to 24                                     77.5                     75.4   \n",
       "25 to 34                                     84.6                     82.9   \n",
       "35 to 44                                     84.9                     83.9   \n",
       "45 to 54                                     82.6                     82.1   \n",
       "\n",
       "                         Participation rate, 2009 Participation rate, 2013  \\\n",
       "Labour_Participation_age                                                     \n",
       "16 to 19                                     37.5                     34.5   \n",
       "20 to 24                                     72.9                     70.7   \n",
       "25 to 34                                     82.7                     81.2   \n",
       "35 to 44                                     83.7                     82.2   \n",
       "45 to 54                                     81.6                     79.7   \n",
       "\n",
       "                         Participation rate, 2019 Participation rate, 2023  \\\n",
       "Labour_Participation_age                                                     \n",
       "16 to 19                                     35.3                     36.9   \n",
       "20 to 24                                     72.2                     71.3   \n",
       "25 to 34                                     82.9                     83.8   \n",
       "35 to 44                                     83.1                     83.8   \n",
       "45 to 54                                     81.4                     82.1   \n",
       "\n",
       "                         Participation rate, 2029 Participation rate, 2033  \n",
       "Labour_Participation_age                                                    \n",
       "16 to 19                                     28.5                     34.3  \n",
       "20 to 24                                       69                     69.1  \n",
       "25 to 34                                     81.9                     82.9  \n",
       "35 to 44                                     82.2                     82.8  \n",
       "45 to 54                                     81.3                       82  "
      ]
     },
     "execution_count": 6,
     "metadata": {},
     "output_type": "execute_result"
    }
   ],
   "source": [
    "\n",
    "year_columns = [col for col in merged_labor_data.columns if re.search(r'\\d{4}', col)]\n",
    "sorted_year_columns = sorted(year_columns, key=lambda x: int(re.search(r'\\d{4}', x).group()))\n",
    "\n",
    "sorted_columns = sorted_year_columns\n",
    "merged_labor_data_sorted = merged_labor_data[sorted_columns]\n",
    "\n",
    "merged_labor_data_sorted.head()"
   ]
  },
  {
   "cell_type": "code",
   "execution_count": 7,
   "metadata": {},
   "outputs": [
    {
     "data": {
      "image/png": "[encoded data removed]",
      "text/plain": [
       "<Figure size 1000x600 with 1 Axes>"
      ]
     },
     "metadata": {},
     "output_type": "display_data"
    }
   ],
   "source": [
    "# Step 2: Plotting the graph\n",
    "plt.figure(figsize=(10, 6))\n",
    "\n",
    "# Plot each age group's participation rate from merged_labor_data_sorted\n",
    "for age_group in merged_labor_data_sorted.index:\n",
    "    plt.plot(merged_labor_data_sorted.columns, merged_labor_data_sorted.loc[age_group], marker='o', label=age_group)\n",
    "\n",
    "# Adding labels and title\n",
    "plt.title('Labour Participation Rate by Age Group (1999-2033)')\n",
    "plt.xlabel('Year')\n",
    "plt.ylabel('Participation Rate (%)')\n",
    "\n",
    "# Set x-axis ticks to the years (i.e., extract years from column names)\n",
    "years = [re.search(r'\\d{4}', col).group() for col in merged_labor_data_sorted.columns]\n",
    "plt.xticks(merged_labor_data_sorted.columns, years)  # Only show year on x-axis labels\n",
    "\n",
    "plt.grid(True)\n",
    "\n",
    "# Display legend with age groups\n",
    "plt.legend(title='Age Group')\n",
    "\n",
    "# Display the plot\n",
    "plt.tight_layout()\n",
    "plt.show()"
   ]
  },
  {
   "cell_type": "code",
   "execution_count": 8,
   "metadata": {},
   "outputs": [
    {
     "data": {
      "application/vnd.plotly.v1+json": {
       "config": {
        "plotlyServerURL": "https://plot.ly"
       },
       "data": [
        {
         "mode": "lines+markers+text",
         "name": "16 to 19",
         "type": "scatter",
         "x": [
          "Participation rate, 1999",
          "Participation rate, 2003",
          "Participation rate, 2009",
          "Participation rate, 2013",
          "Participation rate, 2019",
          "Participation rate, 2023",
          "Participation rate, 2029",
          "Participation rate, 2033"
         ],
         "y": [
          52,
          44.5,
          37.5,
          34.5,
          35.3,
          36.9,
          28.5,
          34.3
         ]
        },
        {
         "mode": "lines+markers+text",
         "name": "20 to 24",
         "type": "scatter",
         "x": [
          "Participation rate, 1999",
          "Participation rate, 2003",
          "Participation rate, 2009",
          "Participation rate, 2013",
          "Participation rate, 2019",
          "Participation rate, 2023",
          "Participation rate, 2029",
          "Participation rate, 2033"
         ],
         "y": [
          77.5,
          75.4,
          72.9,
          70.7,
          72.2,
          71.3,
          69,
          69.1
         ]
        },
        {
         "mode": "lines+markers+text",
         "name": "25 to 34",
         "type": "scatter",
         "x": [
          "Participation rate, 1999",
          "Participation rate, 2003",
          "Participation rate, 2009",
          "Participation rate, 2013",
          "Participation rate, 2019",
          "Participation rate, 2023",
          "Participation rate, 2029",
          "Participation rate, 2033"
         ],
         "y": [
          84.6,
          82.9,
          82.7,
          81.2,
          82.9,
          83.8,
          81.9,
          82.9
         ]
        },
        {
         "mode": "lines+markers+text",
         "name": "35 to 44",
         "type": "scatter",
         "x": [
          "Participation rate, 1999",
          "Participation rate, 2003",
          "Participation rate, 2009",
          "Participation rate, 2013",
          "Participation rate, 2019",
          "Participation rate, 2023",
          "Participation rate, 2029",
          "Participation rate, 2033"
         ],
         "y": [
          84.9,
          83.9,
          83.7,
          82.2,
          83.1,
          83.8,
          82.2,
          82.8
         ]
        },
        {
         "mode": "lines+markers+text",
         "name": "45 to 54",
         "type": "scatter",
         "x": [
          "Participation rate, 1999",
          "Participation rate, 2003",
          "Participation rate, 2009",
          "Participation rate, 2013",
          "Participation rate, 2019",
          "Participation rate, 2023",
          "Participation rate, 2029",
          "Participation rate, 2033"
         ],
         "y": [
          82.6,
          82.1,
          81.6,
          79.7,
          81.4,
          82.1,
          81.3,
          82
         ]
        },
        {
         "mode": "lines+markers+text",
         "name": "55 to 64",
         "type": "scatter",
         "x": [
          "Participation rate, 1999",
          "Participation rate, 2003",
          "Participation rate, 2009",
          "Participation rate, 2013",
          "Participation rate, 2019",
          "Participation rate, 2023",
          "Participation rate, 2029",
          "Participation rate, 2033"
         ],
         "y": [
          59.3,
          62.4,
          64.9,
          64.4,
          65.3,
          65.8,
          68.7,
          69.1
         ]
        },
        {
         "mode": "lines+markers+text",
         "name": "65 to 74",
         "type": "scatter",
         "x": [
          "Participation rate, 1999",
          "Participation rate, 2003",
          "Participation rate, 2009",
          "Participation rate, 2013",
          "Participation rate, 2019",
          "Participation rate, 2023",
          "Participation rate, 2029",
          "Participation rate, 2033"
         ],
         "y": [
          18.3,
          21.4,
          25.6,
          26.7,
          27.8,
          26.9,
          33.2,
          30.4
         ]
        },
        {
         "mode": "lines+markers+text",
         "name": "75 and older",
         "type": "scatter",
         "x": [
          "Participation rate, 1999",
          "Participation rate, 2003",
          "Participation rate, 2009",
          "Participation rate, 2013",
          "Participation rate, 2019",
          "Participation rate, 2023",
          "Participation rate, 2029",
          "Participation rate, 2033"
         ],
         "y": [
          5.1,
          5.8,
          7.3,
          7.9,
          9.1,
          8.3,
          11.8,
          10.1
         ]
        }
       ],
       "layout": {
        "height": 600,
        "showlegend": true,
        "template": {
         "data": {
          "bar": [
           {
            "error_x": {
             "color": "#f2f5fa"
            },
            "error_y": {
             "color": "#f2f5fa"
            },
            "marker": {
             "line": {
              "color": "rgb(17,17,17)",
              "width": 0.5
             },
             "pattern": {
              "fillmode": "overlay",
              "size": 10,
              "solidity": 0.2
             }
            },
            "type": "bar"
           }
          ],
          "barpolar": [
           {
            "marker": {
             "line": {
              "color": "rgb(17,17,17)",
              "width": 0.5
             },
             "pattern": {
              "fillmode": "overlay",
              "size": 10,
              "solidity": 0.2
             }
            },
            "type": "barpolar"
           }
          ],
          "carpet": [
           {
            "aaxis": {
             "endlinecolor": "#A2B1C6",
             "gridcolor": "#506784",
             "linecolor": "#506784",
             "minorgridcolor": "#506784",
             "startlinecolor": "#A2B1C6"
            },
            "baxis": {
             "endlinecolor": "#A2B1C6",
             "gridcolor": "#506784",
             "linecolor": "#506784",
             "minorgridcolor": "#506784",
             "startlinecolor": "#A2B1C6"
            },
            "type": "carpet"
           }
          ],
          "choropleth": [
           {
            "colorbar": {
             "outlinewidth": 0,
             "ticks": ""
            },
            "type": "choropleth"
           }
          ],
          "contour": [
           {
            "colorbar": {
             "outlinewidth": 0,
             "ticks": ""
            },
            "colorscale": [
             [
              0,
              "#0d0887"
             ],
             [
              0.1111111111111111,
              "#46039f"
             ],
             [
              0.2222222222222222,
              "#7201a8"
             ],
             [
              0.3333333333333333,
              "#9c179e"
             ],
             [
              0.4444444444444444,
              "#bd3786"
             ],
             [
              0.5555555555555556,
              "#d8576b"
             ],
             [
              0.6666666666666666,
              "#ed7953"
             ],
             [
              0.7777777777777778,
              "#fb9f3a"
             ],
             [
              0.8888888888888888,
              "#fdca26"
             ],
             [
              1,
              "#f0f921"
             ]
            ],
            "type": "contour"
           }
          ],
          "contourcarpet": [
           {
            "colorbar": {
             "outlinewidth": 0,
             "ticks": ""
            },
            "type": "contourcarpet"
           }
          ],
          "heatmap": [
           {
            "colorbar": {
             "outlinewidth": 0,
             "ticks": ""
            },
            "colorscale": [
             [
              0,
              "#0d0887"
             ],
             [
              0.1111111111111111,
              "#46039f"
             ],
             [
              0.2222222222222222,
              "#7201a8"
             ],
             [
              0.3333333333333333,
              "#9c179e"
             ],
             [
              0.4444444444444444,
              "#bd3786"
             ],
             [
              0.5555555555555556,
              "#d8576b"
             ],
             [
              0.6666666666666666,
              "#ed7953"
             ],
             [
              0.7777777777777778,
              "#fb9f3a"
             ],
             [
              0.8888888888888888,
              "#fdca26"
             ],
             [
              1,
              "#f0f921"
             ]
            ],
            "type": "heatmap"
           }
          ],
          "heatmapgl": [
           {
            "colorbar": {
             "outlinewidth": 0,
             "ticks": ""
            },
            "colorscale": [
             [
              0,
              "#0d0887"
             ],
             [
              0.1111111111111111,
              "#46039f"
             ],
             [
              0.2222222222222222,
              "#7201a8"
             ],
             [
              0.3333333333333333,
              "#9c179e"
             ],
             [
              0.4444444444444444,
              "#bd3786"
             ],
             [
              0.5555555555555556,
              "#d8576b"
             ],
             [
              0.6666666666666666,
              "#ed7953"
             ],
             [
              0.7777777777777778,
              "#fb9f3a"
             ],
             [
              0.8888888888888888,
              "#fdca26"
             ],
             [
              1,
              "#f0f921"
             ]
            ],
            "type": "heatmapgl"
           }
          ],
          "histogram": [
           {
            "marker": {
             "pattern": {
              "fillmode": "overlay",
              "size": 10,
              "solidity": 0.2
             }
            },
            "type": "histogram"
           }
          ],
          "histogram2d": [
           {
            "colorbar": {
             "outlinewidth": 0,
             "ticks": ""
            },
            "colorscale": [
             [
              0,
              "#0d0887"
             ],
             [
              0.1111111111111111,
              "#46039f"
             ],
             [
              0.2222222222222222,
              "#7201a8"
             ],
             [
              0.3333333333333333,
              "#9c179e"
             ],
             [
              0.4444444444444444,
              "#bd3786"
             ],
             [
              0.5555555555555556,
              "#d8576b"
             ],
             [
              0.6666666666666666,
              "#ed7953"
             ],
             [
              0.7777777777777778,
              "#fb9f3a"
             ],
             [
              0.8888888888888888,
              "#fdca26"
             ],
             [
              1,
              "#f0f921"
             ]
            ],
            "type": "histogram2d"
           }
          ],
          "histogram2dcontour": [
           {
            "colorbar": {
             "outlinewidth": 0,
             "ticks": ""
            },
            "colorscale": [
             [
              0,
              "#0d0887"
             ],
             [
              0.1111111111111111,
              "#46039f"
             ],
             [
              0.2222222222222222,
              "#7201a8"
             ],
             [
              0.3333333333333333,
              "#9c179e"
             ],
             [
              0.4444444444444444,
              "#bd3786"
             ],
             [
              0.5555555555555556,
              "#d8576b"
             ],
             [
              0.6666666666666666,
              "#ed7953"
             ],
             [
              0.7777777777777778,
              "#fb9f3a"
             ],
             [
              0.8888888888888888,
              "#fdca26"
             ],
             [
              1,
              "#f0f921"
             ]
            ],
            "type": "histogram2dcontour"
           }
          ],
          "mesh3d": [
           {
            "colorbar": {
             "outlinewidth": 0,
             "ticks": ""
            },
            "type": "mesh3d"
           }
          ],
          "parcoords": [
           {
            "line": {
             "colorbar": {
              "outlinewidth": 0,
              "ticks": ""
             }
            },
            "type": "parcoords"
           }
          ],
          "pie": [
           {
            "automargin": true,
            "type": "pie"
           }
          ],
          "scatter": [
           {
            "marker": {
             "line": {
              "color": "#283442"
             }
            },
            "type": "scatter"
           }
          ],
          "scatter3d": [
           {
            "line": {
             "colorbar": {
              "outlinewidth": 0,
              "ticks": ""
             }
            },
            "marker": {
             "colorbar": {
              "outlinewidth": 0,
              "ticks": ""
             }
            },
            "type": "scatter3d"
           }
          ],
          "scattercarpet": [
           {
            "marker": {
             "colorbar": {
              "outlinewidth": 0,
              "ticks": ""
             }
            },
            "type": "scattercarpet"
           }
          ],
          "scattergeo": [
           {
            "marker": {
             "colorbar": {
              "outlinewidth": 0,
              "ticks": ""
             }
            },
            "type": "scattergeo"
           }
          ],
          "scattergl": [
           {
            "marker": {
             "line": {
              "color": "#283442"
             }
            },
            "type": "scattergl"
           }
          ],
          "scattermapbox": [
           {
            "marker": {
             "colorbar": {
              "outlinewidth": 0,
              "ticks": ""
             }
            },
            "type": "scattermapbox"
           }
          ],
          "scatterpolar": [
           {
            "marker": {
             "colorbar": {
              "outlinewidth": 0,
              "ticks": ""
             }
            },
            "type": "scatterpolar"
           }
          ],
          "scatterpolargl": [
           {
            "marker": {
             "colorbar": {
              "outlinewidth": 0,
              "ticks": ""
             }
            },
            "type": "scatterpolargl"
           }
          ],
          "scatterternary": [
           {
            "marker": {
             "colorbar": {
              "outlinewidth": 0,
              "ticks": ""
             }
            },
            "type": "scatterternary"
           }
          ],
          "surface": [
           {
            "colorbar": {
             "outlinewidth": 0,
             "ticks": ""
            },
            "colorscale": [
             [
              0,
              "#0d0887"
             ],
             [
              0.1111111111111111,
              "#46039f"
             ],
             [
              0.2222222222222222,
              "#7201a8"
             ],
             [
              0.3333333333333333,
              "#9c179e"
             ],
             [
              0.4444444444444444,
              "#bd3786"
             ],
             [
              0.5555555555555556,
              "#d8576b"
             ],
             [
              0.6666666666666666,
              "#ed7953"
             ],
             [
              0.7777777777777778,
              "#fb9f3a"
             ],
             [
              0.8888888888888888,
              "#fdca26"
             ],
             [
              1,
              "#f0f921"
             ]
            ],
            "type": "surface"
           }
          ],
          "table": [
           {
            "cells": {
             "fill": {
              "color": "#506784"
             },
             "line": {
              "color": "rgb(17,17,17)"
             }
            },
            "header": {
             "fill": {
              "color": "#2a3f5f"
             },
             "line": {
              "color": "rgb(17,17,17)"
             }
            },
            "type": "table"
           }
          ]
         },
         "layout": {
          "annotationdefaults": {
           "arrowcolor": "#f2f5fa",
           "arrowhead": 0,
           "arrowwidth": 1
          },
          "autotypenumbers": "strict",
          "coloraxis": {
           "colorbar": {
            "outlinewidth": 0,
            "ticks": ""
           }
          },
          "colorscale": {
           "diverging": [
            [
             0,
             "#8e0152"
            ],
            [
             0.1,
             "#c51b7d"
            ],
            [
             0.2,
             "#de77ae"
            ],
            [
             0.3,
             "#f1b6da"
            ],
            [
             0.4,
             "#fde0ef"
            ],
            [
             0.5,
             "#f7f7f7"
            ],
            [
             0.6,
             "#e6f5d0"
            ],
            [
             0.7,
             "#b8e186"
            ],
            [
             0.8,
             "#7fbc41"
            ],
            [
             0.9,
             "#4d9221"
            ],
            [
             1,
             "#276419"
            ]
           ],
           "sequential": [
            [
             0,
             "#0d0887"
            ],
            [
             0.1111111111111111,
             "#46039f"
            ],
            [
             0.2222222222222222,
             "#7201a8"
            ],
            [
             0.3333333333333333,
             "#9c179e"
            ],
            [
             0.4444444444444444,
             "#bd3786"
            ],
            [
             0.5555555555555556,
             "#d8576b"
            ],
            [
             0.6666666666666666,
             "#ed7953"
            ],
            [
             0.7777777777777778,
             "#fb9f3a"
            ],
            [
             0.8888888888888888,
             "#fdca26"
            ],
            [
             1,
             "#f0f921"
            ]
           ],
           "sequentialminus": [
            [
             0,
             "#0d0887"
            ],
            [
             0.1111111111111111,
             "#46039f"
            ],
            [
             0.2222222222222222,
             "#7201a8"
            ],
            [
             0.3333333333333333,
             "#9c179e"
            ],
            [
             0.4444444444444444,
             "#bd3786"
            ],
            [
             0.5555555555555556,
             "#d8576b"
            ],
            [
             0.6666666666666666,
             "#ed7953"
            ],
            [
             0.7777777777777778,
             "#fb9f3a"
            ],
            [
             0.8888888888888888,
             "#fdca26"
            ],
            [
             1,
             "#f0f921"
            ]
           ]
          },
          "colorway": [
           "#636efa",
           "#EF553B",
           "#00cc96",
           "#ab63fa",
           "#FFA15A",
           "#19d3f3",
           "#FF6692",
           "#B6E880",
           "#FF97FF",
           "#FECB52"
          ],
          "font": {
           "color": "#f2f5fa"
          },
          "geo": {
           "bgcolor": "rgb(17,17,17)",
           "lakecolor": "rgb(17,17,17)",
           "landcolor": "rgb(17,17,17)",
           "showlakes": true,
           "showland": true,
           "subunitcolor": "#506784"
          },
          "hoverlabel": {
           "align": "left"
          },
          "hovermode": "closest",
          "mapbox": {
           "style": "dark"
          },
          "paper_bgcolor": "rgb(17,17,17)",
          "plot_bgcolor": "rgb(17,17,17)",
          "polar": {
           "angularaxis": {
            "gridcolor": "#506784",
            "linecolor": "#506784",
            "ticks": ""
           },
           "bgcolor": "rgb(17,17,17)",
           "radialaxis": {
            "gridcolor": "#506784",
            "linecolor": "#506784",
            "ticks": ""
           }
          },
          "scene": {
           "xaxis": {
            "backgroundcolor": "rgb(17,17,17)",
            "gridcolor": "#506784",
            "gridwidth": 2,
            "linecolor": "#506784",
            "showbackground": true,
            "ticks": "",
            "zerolinecolor": "#C8D4E3"
           },
           "yaxis": {
            "backgroundcolor": "rgb(17,17,17)",
            "gridcolor": "#506784",
            "gridwidth": 2,
            "linecolor": "#506784",
            "showbackground": true,
            "ticks": "",
            "zerolinecolor": "#C8D4E3"
           },
           "zaxis": {
            "backgroundcolor": "rgb(17,17,17)",
            "gridcolor": "#506784",
            "gridwidth": 2,
            "linecolor": "#506784",
            "showbackground": true,
            "ticks": "",
            "zerolinecolor": "#C8D4E3"
           }
          },
          "shapedefaults": {
           "line": {
            "color": "#f2f5fa"
           }
          },
          "sliderdefaults": {
           "bgcolor": "#C8D4E3",
           "bordercolor": "rgb(17,17,17)",
           "borderwidth": 1,
           "tickwidth": 0
          },
          "ternary": {
           "aaxis": {
            "gridcolor": "#506784",
            "linecolor": "#506784",
            "ticks": ""
           },
           "baxis": {
            "gridcolor": "#506784",
            "linecolor": "#506784",
            "ticks": ""
           },
           "bgcolor": "rgb(17,17,17)",
           "caxis": {
            "gridcolor": "#506784",
            "linecolor": "#506784",
            "ticks": ""
           }
          },
          "title": {
           "x": 0.05
          },
          "updatemenudefaults": {
           "bgcolor": "#506784",
           "borderwidth": 0
          },
          "xaxis": {
           "automargin": true,
           "gridcolor": "#283442",
           "linecolor": "#506784",
           "ticks": "",
           "title": {
            "standoff": 15
           },
           "zerolinecolor": "#283442",
           "zerolinewidth": 2
          },
          "yaxis": {
           "automargin": true,
           "gridcolor": "#283442",
           "linecolor": "#506784",
           "ticks": "",
           "title": {
            "standoff": 15
           },
           "zerolinecolor": "#283442",
           "zerolinewidth": 2
          }
         }
        },
        "title": {
         "text": "Labour Participation Rate by Age Group (1999-2033)",
         "x": 0.5
        },
        "width": 1000,
        "xaxis": {
         "tickmode": "array",
         "ticktext": [
          "1999",
          "2003",
          "2009",
          "2013",
          "2019",
          "2023",
          "2029",
          "2033"
         ],
         "tickvals": [
          "Participation rate, 1999",
          "Participation rate, 2003",
          "Participation rate, 2009",
          "Participation rate, 2013",
          "Participation rate, 2019",
          "Participation rate, 2023",
          "Participation rate, 2029",
          "Participation rate, 2033"
         ],
         "title": {
          "text": "Year"
         }
        },
        "yaxis": {
         "title": {
          "text": "Participation Rate (%)"
         }
        }
       }
      }
     },
     "metadata": {},
     "output_type": "display_data"
    }
   ],
   "source": [
    "import plotly.graph_objects as go\n",
    "import re\n",
    "\n",
    "fig = go.Figure()\n",
    "\n",
    "for age_group in merged_labor_data_sorted.index:\n",
    "    fig.add_trace(go.Scatter(\n",
    "        x=merged_labor_data_sorted.columns,\n",
    "        y=merged_labor_data_sorted.loc[age_group],\n",
    "        mode='lines+markers+text',\n",
    "        name=age_group\n",
    "    ))\n",
    "\n",
    "fig.update_layout(\n",
    "    title='Labour Participation Rate by Age Group (1999-2033)',\n",
    "    xaxis_title='Year',\n",
    "    yaxis_title='Participation Rate (%)',\n",
    "    xaxis=dict(\n",
    "        tickmode='array',\n",
    "        tickvals=merged_labor_data_sorted.columns,\n",
    "        ticktext=[re.search(r'\\d{4}', col).group() for col in merged_labor_data_sorted.columns]\n",
    "    ),\n",
    "    showlegend=True,\n",
    "    template='plotly_dark',\n",
    "    title_x=0.5,\n",
    "    height=600,\n",
    "    width=1000  \n",
    ")\n",
    "\n",
    "fig.show()"
   ]
  },
  {
   "cell_type": "code",
   "execution_count": 9,
   "metadata": {},
   "outputs": [
    {
     "data": {
      "text/html": [
       "<div>\n",
       "<style scoped>\n",
       "    .dataframe tbody tr th:only-of-type {\n",
       "        vertical-align: middle;\n",
       "    }\n",
       "\n",
       "    .dataframe tbody tr th {\n",
       "        vertical-align: top;\n",
       "    }\n",
       "\n",
       "    .dataframe thead th {\n",
       "        text-align: right;\n",
       "    }\n",
       "</style>\n",
       "<table border=\"1\" class=\"dataframe\">\n",
       "  <thead>\n",
       "    <tr style=\"text-align: right;\">\n",
       "      <th></th>\n",
       "      <th>Participation rate, 1999</th>\n",
       "      <th>Participation rate, 2009</th>\n",
       "      <th>Participation rate, 2019</th>\n",
       "      <th>Participation rate, 2029</th>\n",
       "    </tr>\n",
       "    <tr>\n",
       "      <th>Labour_Participation_age</th>\n",
       "      <th></th>\n",
       "      <th></th>\n",
       "      <th></th>\n",
       "      <th></th>\n",
       "    </tr>\n",
       "  </thead>\n",
       "  <tbody>\n",
       "    <tr>\n",
       "      <th>16 to 24</th>\n",
       "      <td>68</td>\n",
       "      <td>58.5</td>\n",
       "      <td>56.6</td>\n",
       "      <td>50.6</td>\n",
       "    </tr>\n",
       "    <tr>\n",
       "      <th>16 to 19</th>\n",
       "      <td>52.9</td>\n",
       "      <td>37.3</td>\n",
       "      <td>34.9</td>\n",
       "      <td>27.3</td>\n",
       "    </tr>\n",
       "    <tr>\n",
       "      <th>20 to 24</th>\n",
       "      <td>81.9</td>\n",
       "      <td>76.2</td>\n",
       "      <td>74</td>\n",
       "      <td>68.9</td>\n",
       "    </tr>\n",
       "    <tr>\n",
       "      <th>25 to 54</th>\n",
       "      <td>91.7</td>\n",
       "      <td>89.7</td>\n",
       "      <td>89.1</td>\n",
       "      <td>87.3</td>\n",
       "    </tr>\n",
       "    <tr>\n",
       "      <th>25 to 34</th>\n",
       "      <td>93.3</td>\n",
       "      <td>90.3</td>\n",
       "      <td>89.1</td>\n",
       "      <td>86.7</td>\n",
       "    </tr>\n",
       "    <tr>\n",
       "      <th>35 to 44</th>\n",
       "      <td>92.8</td>\n",
       "      <td>91.7</td>\n",
       "      <td>90.8</td>\n",
       "      <td>89.2</td>\n",
       "    </tr>\n",
       "    <tr>\n",
       "      <th>45 to 54</th>\n",
       "      <td>88.8</td>\n",
       "      <td>87.4</td>\n",
       "      <td>87.4</td>\n",
       "      <td>85.8</td>\n",
       "    </tr>\n",
       "    <tr>\n",
       "      <th>55 and older</th>\n",
       "      <td>39.6</td>\n",
       "      <td>46.3</td>\n",
       "      <td>46.3</td>\n",
       "      <td>44.2</td>\n",
       "    </tr>\n",
       "    <tr>\n",
       "      <th>55 to 64</th>\n",
       "      <td>67.9</td>\n",
       "      <td>70.2</td>\n",
       "      <td>71.5</td>\n",
       "      <td>72.4</td>\n",
       "    </tr>\n",
       "    <tr>\n",
       "      <th>65 to 74</th>\n",
       "      <td>23.3</td>\n",
       "      <td>30.4</td>\n",
       "      <td>32.6</td>\n",
       "      <td>37.5</td>\n",
       "    </tr>\n",
       "    <tr>\n",
       "      <th>75 and older</th>\n",
       "      <td>8</td>\n",
       "      <td>10.3</td>\n",
       "      <td>12.1</td>\n",
       "      <td>14.7</td>\n",
       "    </tr>\n",
       "    <tr>\n",
       "      <th>NaN</th>\n",
       "      <td>NaN</td>\n",
       "      <td>NaN</td>\n",
       "      <td>NaN</td>\n",
       "      <td>NaN</td>\n",
       "    </tr>\n",
       "  </tbody>\n",
       "</table>\n",
       "</div>"
      ],
      "text/plain": [
       "                         Participation rate, 1999 Participation rate, 2009  \\\n",
       "Labour_Participation_age                                                     \n",
       "16 to 24                                       68                     58.5   \n",
       "16 to 19                                     52.9                     37.3   \n",
       "20 to 24                                     81.9                     76.2   \n",
       "25 to 54                                     91.7                     89.7   \n",
       "25 to 34                                     93.3                     90.3   \n",
       "35 to 44                                     92.8                     91.7   \n",
       "45 to 54                                     88.8                     87.4   \n",
       "55 and older                                 39.6                     46.3   \n",
       "55 to 64                                     67.9                     70.2   \n",
       "65 to 74                                     23.3                     30.4   \n",
       "75 and older                                    8                     10.3   \n",
       "NaN                                           NaN                      NaN   \n",
       "\n",
       "                         Participation rate, 2019 Participation rate, 2029  \n",
       "Labour_Participation_age                                                    \n",
       "16 to 24                                     56.6                     50.6  \n",
       "16 to 19                                     34.9                     27.3  \n",
       "20 to 24                                       74                     68.9  \n",
       "25 to 54                                     89.1                     87.3  \n",
       "25 to 34                                     89.1                     86.7  \n",
       "35 to 44                                     90.8                     89.2  \n",
       "45 to 54                                     87.4                     85.8  \n",
       "55 and older                                 46.3                     44.2  \n",
       "55 to 64                                     71.5                     72.4  \n",
       "65 to 74                                     32.6                     37.5  \n",
       "75 and older                                 12.1                     14.7  \n",
       "NaN                                           NaN                      NaN  "
      ]
     },
     "execution_count": 9,
     "metadata": {},
     "output_type": "execute_result"
    }
   ],
   "source": [
    "men_labour_data_2019 = labour_data_2019.iloc[14:26,:5]\n",
    "men_labour_data_2019.set_index('Labour_Participation_age', inplace=True)\n",
    "women_labour_data_2019 = labour_data_2019.iloc[27:39,:5]\n",
    "women_labour_data_2019.set_index('Labour_Participation_age', inplace=True)\n",
    "men_labour_data_2019"
   ]
  },
  {
   "cell_type": "code",
   "execution_count": 10,
   "metadata": {},
   "outputs": [
    {
     "data": {
      "text/html": [
       "<div>\n",
       "<style scoped>\n",
       "    .dataframe tbody tr th:only-of-type {\n",
       "        vertical-align: middle;\n",
       "    }\n",
       "\n",
       "    .dataframe tbody tr th {\n",
       "        vertical-align: top;\n",
       "    }\n",
       "\n",
       "    .dataframe thead th {\n",
       "        text-align: right;\n",
       "    }\n",
       "</style>\n",
       "<table border=\"1\" class=\"dataframe\">\n",
       "  <thead>\n",
       "    <tr style=\"text-align: right;\">\n",
       "      <th></th>\n",
       "      <th>Participation rate, 1999</th>\n",
       "      <th>Participation rate, 2009</th>\n",
       "      <th>Participation rate, 2019</th>\n",
       "      <th>Participation rate, 2029</th>\n",
       "    </tr>\n",
       "    <tr>\n",
       "      <th>Labour_Participation_age</th>\n",
       "      <th></th>\n",
       "      <th></th>\n",
       "      <th></th>\n",
       "      <th></th>\n",
       "    </tr>\n",
       "  </thead>\n",
       "  <tbody>\n",
       "    <tr>\n",
       "      <th>16 to 24</th>\n",
       "      <td>62.9</td>\n",
       "      <td>55.2</td>\n",
       "      <td>55.1</td>\n",
       "      <td>52</td>\n",
       "    </tr>\n",
       "    <tr>\n",
       "      <th>16 to 19</th>\n",
       "      <td>51</td>\n",
       "      <td>37.7</td>\n",
       "      <td>35.7</td>\n",
       "      <td>29.6</td>\n",
       "    </tr>\n",
       "    <tr>\n",
       "      <th>20 to 24</th>\n",
       "      <td>73.2</td>\n",
       "      <td>69.6</td>\n",
       "      <td>70.4</td>\n",
       "      <td>69.1</td>\n",
       "    </tr>\n",
       "    <tr>\n",
       "      <th>25 to 54</th>\n",
       "      <td>76.8</td>\n",
       "      <td>75.6</td>\n",
       "      <td>76</td>\n",
       "      <td>76.4</td>\n",
       "    </tr>\n",
       "    <tr>\n",
       "      <th>25 to 34</th>\n",
       "      <td>76.4</td>\n",
       "      <td>75</td>\n",
       "      <td>76.7</td>\n",
       "      <td>77.1</td>\n",
       "    </tr>\n",
       "    <tr>\n",
       "      <th>35 to 44</th>\n",
       "      <td>77.2</td>\n",
       "      <td>75.9</td>\n",
       "      <td>75.7</td>\n",
       "      <td>75.1</td>\n",
       "    </tr>\n",
       "    <tr>\n",
       "      <th>45 to 54</th>\n",
       "      <td>76.7</td>\n",
       "      <td>76</td>\n",
       "      <td>75.7</td>\n",
       "      <td>77</td>\n",
       "    </tr>\n",
       "    <tr>\n",
       "      <th>55 and older</th>\n",
       "      <td>25.6</td>\n",
       "      <td>34.7</td>\n",
       "      <td>35</td>\n",
       "      <td>35.5</td>\n",
       "    </tr>\n",
       "    <tr>\n",
       "      <th>55 to 64</th>\n",
       "      <td>51.5</td>\n",
       "      <td>60</td>\n",
       "      <td>59.6</td>\n",
       "      <td>65.2</td>\n",
       "    </tr>\n",
       "    <tr>\n",
       "      <th>65 to 74</th>\n",
       "      <td>14.1</td>\n",
       "      <td>21.5</td>\n",
       "      <td>23.6</td>\n",
       "      <td>29.4</td>\n",
       "    </tr>\n",
       "    <tr>\n",
       "      <th>75 and older</th>\n",
       "      <td>3.3</td>\n",
       "      <td>5.3</td>\n",
       "      <td>6.8</td>\n",
       "      <td>9.6</td>\n",
       "    </tr>\n",
       "    <tr>\n",
       "      <th>NaN</th>\n",
       "      <td>NaN</td>\n",
       "      <td>NaN</td>\n",
       "      <td>NaN</td>\n",
       "      <td>NaN</td>\n",
       "    </tr>\n",
       "  </tbody>\n",
       "</table>\n",
       "</div>"
      ],
      "text/plain": [
       "                         Participation rate, 1999 Participation rate, 2009  \\\n",
       "Labour_Participation_age                                                     \n",
       "16 to 24                                     62.9                     55.2   \n",
       "16 to 19                                       51                     37.7   \n",
       "20 to 24                                     73.2                     69.6   \n",
       "25 to 54                                     76.8                     75.6   \n",
       "25 to 34                                     76.4                       75   \n",
       "35 to 44                                     77.2                     75.9   \n",
       "45 to 54                                     76.7                       76   \n",
       "55 and older                                 25.6                     34.7   \n",
       "55 to 64                                     51.5                       60   \n",
       "65 to 74                                     14.1                     21.5   \n",
       "75 and older                                  3.3                      5.3   \n",
       "NaN                                           NaN                      NaN   \n",
       "\n",
       "                         Participation rate, 2019 Participation rate, 2029  \n",
       "Labour_Participation_age                                                    \n",
       "16 to 24                                     55.1                       52  \n",
       "16 to 19                                     35.7                     29.6  \n",
       "20 to 24                                     70.4                     69.1  \n",
       "25 to 54                                       76                     76.4  \n",
       "25 to 34                                     76.7                     77.1  \n",
       "35 to 44                                     75.7                     75.1  \n",
       "45 to 54                                     75.7                       77  \n",
       "55 and older                                   35                     35.5  \n",
       "55 to 64                                     59.6                     65.2  \n",
       "65 to 74                                     23.6                     29.4  \n",
       "75 and older                                  6.8                      9.6  \n",
       "NaN                                           NaN                      NaN  "
      ]
     },
     "execution_count": 10,
     "metadata": {},
     "output_type": "execute_result"
    }
   ],
   "source": [
    "women_labour_data_2019"
   ]
  },
  {
   "cell_type": "code",
   "execution_count": null,
   "metadata": {},
   "outputs": [],
   "source": []
  }
 ],
 "metadata": {
  "kernelspec": {
   "display_name": ".venv",
   "language": "python",
   "name": "python3"
  },
  "language_info": {
   "codemirror_mode": {
    "name": "ipython",
    "version": 3
   },
   "file_extension": ".py",
   "mimetype": "text/x-python",
   "name": "python",
   "nbconvert_exporter": "python",
   "pygments_lexer": "ipython3",
   "version": "3.12.7"
  }
 },
 "nbformat": 4,
 "nbformat_minor": 2
}
